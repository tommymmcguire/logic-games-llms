{
 "cells": [
  {
   "cell_type": "code",
   "execution_count": 1,
   "metadata": {},
   "outputs": [],
   "source": [
    "import json\n",
    "import sys\n",
    "import os\n",
    "import subprocess"
   ]
  },
  {
   "cell_type": "code",
   "execution_count": 2,
   "metadata": {},
   "outputs": [
    {
     "name": "stdout",
     "output_type": "stream",
     "text": [
      "[{'instruction': 'Based off this context, output whether the question implies entailment or non-entailment', 'input': 'Context: Harish is shorter than Suresh. Manish is taller than Raghu. Harish is taller than Anil. , Question: Is Harish taller than Manish ?', 'output': 'not entailment - unknown\\n'}, {'instruction': 'Based off this context, output whether the question implies entailment or non-entailment', 'input': 'Context: Jayesh is taller than Nandu. Ramesh is shorter than Nandu. Satish is shorter than Subodh. Vinod is taller than Jayesh. , Question: Is Nandu shorter than Vinod ?', 'output': 'not entailment - contradiction\\n'}, {'instruction': 'Based off this context, output whether the question implies entailment or non-entailment', 'input': 'Context: Tom is shorter than Mary. Mary is shorter than Sara but taller than Tom. Mike is taller than John but shorter than Katy. , Question: Is Tom taller than Tom ?', 'output': 'not entailment - contradiction\\n'}, {'instruction': 'Based off this context, output whether the question implies entailment or non-entailment', 'input': 'Context: A , B , C , D , E and F are six friends in a group. B and C are taller than A. D is shorter than E. E is shorter than F but taller than C. C is taller than B but shorter than D. , Question: Is CC taller than DD ?', 'output': 'not entailment - contradiction\\n'}, {'instruction': 'Based off this context, output whether the question implies entailment or non-entailment', 'input': 'Context: CC is taller than AA. EE is taller than FF but shorter than BB. , Question: Is AA the shortest ?', 'output': 'not entailment - contradiction\\n'}]\n"
     ]
    }
   ],
   "source": [
    "with open(\"../data/formatted-data/test_data_formatted.json\", \"r\") as f:\n",
    "    test_data = json.load(f)\n",
    "print(test_data[0:5])"
   ]
  },
  {
   "cell_type": "code",
   "execution_count": null,
   "metadata": {},
   "outputs": [],
   "source": [
    "checkpoint_dir = \"checkpoints/mistralai/Mistral-7B-Instruct-v0.2\"\n",
    "for i, d in enumerate(test_data):\n",
    "    prompt = f\"{d['instruction']} {d['input']}\"\n",
    "    command = [\n",
    "        \"litgpt\", \"generate\", \"base\",\n",
    "        \"--precision\", \"bf16-true\",\n",
    "        \"--checkpoint_dir\", checkpoint_dir,\n",
    "        \"--prompt\", prompt\n",
    "    ]\n",
    "    result = subprocess.run(command, capture_output=True, text=True)\n",
    "    print(result.stdout)"
   ]
  }
 ],
 "metadata": {
  "kernelspec": {
   "display_name": "venv",
   "language": "python",
   "name": "python3"
  },
  "language_info": {
   "codemirror_mode": {
    "name": "ipython",
    "version": 3
   },
   "file_extension": ".py",
   "mimetype": "text/x-python",
   "name": "python",
   "nbconvert_exporter": "python",
   "pygments_lexer": "ipython3",
   "version": "3.9.12"
  }
 },
 "nbformat": 4,
 "nbformat_minor": 2
}
